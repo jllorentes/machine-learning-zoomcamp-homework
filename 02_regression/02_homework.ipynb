{
 "cells": [
  {
   "cell_type": "markdown",
   "id": "bb8b658b-0fc8-4545-b877-f2fe9c30abaa",
   "metadata": {},
   "source": [
    "# 02. Regression homework"
   ]
  },
  {
   "cell_type": "markdown",
   "id": "b3d4b9b5-1d2b-489d-802d-208496fff050",
   "metadata": {},
   "source": [
    "The goal is to create a regression model for predicting the car fuel efficiency (column 'fuel_efficiency_mpg')."
   ]
  },
  {
   "cell_type": "markdown",
   "id": "2fead78b-cf3f-4b8f-a175-2bef1efa2f17",
   "metadata": {},
   "source": [
    "## 0.1 Prepare environment"
   ]
  },
  {
   "cell_type": "code",
   "execution_count": 190,
   "id": "36f542e5-3be5-4c5b-a154-b4bc8d8595fa",
   "metadata": {},
   "outputs": [],
   "source": [
    "import pandas as pd\n",
    "import numpy as np\n",
    "\n",
    "import seaborn as sns\n",
    "from matplotlib import pyplot as plt\n",
    "%matplotlib inline"
   ]
  },
  {
   "cell_type": "markdown",
   "id": "c5912ed4-2b2e-49f4-8799-fe0297f60042",
   "metadata": {},
   "source": [
    "## 0.2 Get Data"
   ]
  },
  {
   "cell_type": "code",
   "execution_count": 191,
   "id": "e46da96b-2345-4f6d-b686-c9fd4b8e9925",
   "metadata": {
    "scrolled": true
   },
   "outputs": [
    {
     "name": "stdout",
     "output_type": "stream",
     "text": [
      "--2025-10-09 15:56:51--  https://raw.githubusercontent.com/alexeygrigorev/datasets/master/car_fuel_efficiency.csv\n",
      "Resolving raw.githubusercontent.com (raw.githubusercontent.com)... 185.199.111.133, 185.199.108.133, 185.199.109.133, ...\n",
      "Connecting to raw.githubusercontent.com (raw.githubusercontent.com)|185.199.111.133|:443... connected.\n",
      "HTTP request sent, awaiting response... 200 OK\n",
      "Length: 874188 (854K) [text/plain]\n",
      "Saving to: ‘car_fuel_efficiency.csv.2’\n",
      "\n",
      "car_fuel_efficiency 100%[===================>] 853.70K  --.-KB/s    in 0.007s  \n",
      "\n",
      "2025-10-09 15:56:51 (120 MB/s) - ‘car_fuel_efficiency.csv.2’ saved [874188/874188]\n",
      "\n"
     ]
    }
   ],
   "source": [
    "!wget https://raw.githubusercontent.com/alexeygrigorev/datasets/master/car_fuel_efficiency.csv"
   ]
  },
  {
   "cell_type": "markdown",
   "id": "169b19e9-b87c-4a9b-865a-b738da7658e7",
   "metadata": {},
   "source": [
    "## 0.3 Preparing Data\n",
    "Preparing the dataset. Use only the following columns:\n",
    "\n",
    "'engine_displacement',\n",
    "'horsepower',\n",
    "'vehicle_weight',\n",
    "'model_year',\n",
    "'fuel_efficiency_mpg'"
   ]
  },
  {
   "cell_type": "code",
   "execution_count": 192,
   "id": "338478a2-56b0-4131-9c4b-fa08be1d81e2",
   "metadata": {},
   "outputs": [
    {
     "data": {
      "text/html": [
       "<div>\n",
       "<style scoped>\n",
       "    .dataframe tbody tr th:only-of-type {\n",
       "        vertical-align: middle;\n",
       "    }\n",
       "\n",
       "    .dataframe tbody tr th {\n",
       "        vertical-align: top;\n",
       "    }\n",
       "\n",
       "    .dataframe thead th {\n",
       "        text-align: right;\n",
       "    }\n",
       "</style>\n",
       "<table border=\"1\" class=\"dataframe\">\n",
       "  <thead>\n",
       "    <tr style=\"text-align: right;\">\n",
       "      <th></th>\n",
       "      <th>engine_displacement</th>\n",
       "      <th>num_cylinders</th>\n",
       "      <th>horsepower</th>\n",
       "      <th>vehicle_weight</th>\n",
       "      <th>acceleration</th>\n",
       "      <th>model_year</th>\n",
       "      <th>origin</th>\n",
       "      <th>fuel_type</th>\n",
       "      <th>drivetrain</th>\n",
       "      <th>num_doors</th>\n",
       "      <th>fuel_efficiency_mpg</th>\n",
       "    </tr>\n",
       "  </thead>\n",
       "  <tbody>\n",
       "    <tr>\n",
       "      <th>0</th>\n",
       "      <td>170</td>\n",
       "      <td>3.0</td>\n",
       "      <td>159.0</td>\n",
       "      <td>3413.433759</td>\n",
       "      <td>17.7</td>\n",
       "      <td>2003</td>\n",
       "      <td>Europe</td>\n",
       "      <td>Gasoline</td>\n",
       "      <td>All-wheel drive</td>\n",
       "      <td>0.0</td>\n",
       "      <td>13.231729</td>\n",
       "    </tr>\n",
       "    <tr>\n",
       "      <th>1</th>\n",
       "      <td>130</td>\n",
       "      <td>5.0</td>\n",
       "      <td>97.0</td>\n",
       "      <td>3149.664934</td>\n",
       "      <td>17.8</td>\n",
       "      <td>2007</td>\n",
       "      <td>USA</td>\n",
       "      <td>Gasoline</td>\n",
       "      <td>Front-wheel drive</td>\n",
       "      <td>0.0</td>\n",
       "      <td>13.688217</td>\n",
       "    </tr>\n",
       "    <tr>\n",
       "      <th>2</th>\n",
       "      <td>170</td>\n",
       "      <td>NaN</td>\n",
       "      <td>78.0</td>\n",
       "      <td>3079.038997</td>\n",
       "      <td>15.1</td>\n",
       "      <td>2018</td>\n",
       "      <td>Europe</td>\n",
       "      <td>Gasoline</td>\n",
       "      <td>Front-wheel drive</td>\n",
       "      <td>0.0</td>\n",
       "      <td>14.246341</td>\n",
       "    </tr>\n",
       "    <tr>\n",
       "      <th>3</th>\n",
       "      <td>220</td>\n",
       "      <td>4.0</td>\n",
       "      <td>NaN</td>\n",
       "      <td>2542.392402</td>\n",
       "      <td>20.2</td>\n",
       "      <td>2009</td>\n",
       "      <td>USA</td>\n",
       "      <td>Diesel</td>\n",
       "      <td>All-wheel drive</td>\n",
       "      <td>2.0</td>\n",
       "      <td>16.912736</td>\n",
       "    </tr>\n",
       "    <tr>\n",
       "      <th>4</th>\n",
       "      <td>210</td>\n",
       "      <td>1.0</td>\n",
       "      <td>140.0</td>\n",
       "      <td>3460.870990</td>\n",
       "      <td>14.4</td>\n",
       "      <td>2009</td>\n",
       "      <td>Europe</td>\n",
       "      <td>Gasoline</td>\n",
       "      <td>All-wheel drive</td>\n",
       "      <td>2.0</td>\n",
       "      <td>12.488369</td>\n",
       "    </tr>\n",
       "  </tbody>\n",
       "</table>\n",
       "</div>"
      ],
      "text/plain": [
       "   engine_displacement  num_cylinders  horsepower  vehicle_weight  \\\n",
       "0                  170            3.0       159.0     3413.433759   \n",
       "1                  130            5.0        97.0     3149.664934   \n",
       "2                  170            NaN        78.0     3079.038997   \n",
       "3                  220            4.0         NaN     2542.392402   \n",
       "4                  210            1.0       140.0     3460.870990   \n",
       "\n",
       "   acceleration  model_year  origin fuel_type         drivetrain  num_doors  \\\n",
       "0          17.7        2003  Europe  Gasoline    All-wheel drive        0.0   \n",
       "1          17.8        2007     USA  Gasoline  Front-wheel drive        0.0   \n",
       "2          15.1        2018  Europe  Gasoline  Front-wheel drive        0.0   \n",
       "3          20.2        2009     USA    Diesel    All-wheel drive        2.0   \n",
       "4          14.4        2009  Europe  Gasoline    All-wheel drive        2.0   \n",
       "\n",
       "   fuel_efficiency_mpg  \n",
       "0            13.231729  \n",
       "1            13.688217  \n",
       "2            14.246341  \n",
       "3            16.912736  \n",
       "4            12.488369  "
      ]
     },
     "execution_count": 192,
     "metadata": {},
     "output_type": "execute_result"
    }
   ],
   "source": [
    "df = pd.read_csv(\"car_fuel_efficiency.csv\", header=0)\n",
    "df.head()"
   ]
  },
  {
   "cell_type": "code",
   "execution_count": 193,
   "id": "43fe1635-b946-41c8-9b5f-946b5f65e2e3",
   "metadata": {},
   "outputs": [
    {
     "data": {
      "text/plain": [
       "engine_displacement      int64\n",
       "num_cylinders          float64\n",
       "horsepower             float64\n",
       "vehicle_weight         float64\n",
       "acceleration           float64\n",
       "model_year               int64\n",
       "origin                  object\n",
       "fuel_type               object\n",
       "drivetrain              object\n",
       "num_doors              float64\n",
       "fuel_efficiency_mpg    float64\n",
       "dtype: object"
      ]
     },
     "execution_count": 193,
     "metadata": {},
     "output_type": "execute_result"
    }
   ],
   "source": [
    "df.dtypes"
   ]
  },
  {
   "cell_type": "code",
   "execution_count": 194,
   "id": "c9864496-c215-4920-9fd6-92d4e1c5303d",
   "metadata": {},
   "outputs": [
    {
     "data": {
      "text/html": [
       "<div>\n",
       "<style scoped>\n",
       "    .dataframe tbody tr th:only-of-type {\n",
       "        vertical-align: middle;\n",
       "    }\n",
       "\n",
       "    .dataframe tbody tr th {\n",
       "        vertical-align: top;\n",
       "    }\n",
       "\n",
       "    .dataframe thead th {\n",
       "        text-align: right;\n",
       "    }\n",
       "</style>\n",
       "<table border=\"1\" class=\"dataframe\">\n",
       "  <thead>\n",
       "    <tr style=\"text-align: right;\">\n",
       "      <th></th>\n",
       "      <th>engine_displacement</th>\n",
       "      <th>horsepower</th>\n",
       "      <th>vehicle_weight</th>\n",
       "      <th>model_year</th>\n",
       "      <th>fuel_efficiency_mpg</th>\n",
       "    </tr>\n",
       "  </thead>\n",
       "  <tbody>\n",
       "    <tr>\n",
       "      <th>0</th>\n",
       "      <td>170</td>\n",
       "      <td>159.0</td>\n",
       "      <td>3413.433759</td>\n",
       "      <td>2003</td>\n",
       "      <td>13.231729</td>\n",
       "    </tr>\n",
       "    <tr>\n",
       "      <th>1</th>\n",
       "      <td>130</td>\n",
       "      <td>97.0</td>\n",
       "      <td>3149.664934</td>\n",
       "      <td>2007</td>\n",
       "      <td>13.688217</td>\n",
       "    </tr>\n",
       "    <tr>\n",
       "      <th>2</th>\n",
       "      <td>170</td>\n",
       "      <td>78.0</td>\n",
       "      <td>3079.038997</td>\n",
       "      <td>2018</td>\n",
       "      <td>14.246341</td>\n",
       "    </tr>\n",
       "    <tr>\n",
       "      <th>3</th>\n",
       "      <td>220</td>\n",
       "      <td>NaN</td>\n",
       "      <td>2542.392402</td>\n",
       "      <td>2009</td>\n",
       "      <td>16.912736</td>\n",
       "    </tr>\n",
       "    <tr>\n",
       "      <th>4</th>\n",
       "      <td>210</td>\n",
       "      <td>140.0</td>\n",
       "      <td>3460.870990</td>\n",
       "      <td>2009</td>\n",
       "      <td>12.488369</td>\n",
       "    </tr>\n",
       "  </tbody>\n",
       "</table>\n",
       "</div>"
      ],
      "text/plain": [
       "   engine_displacement  horsepower  vehicle_weight  model_year  \\\n",
       "0                  170       159.0     3413.433759        2003   \n",
       "1                  130        97.0     3149.664934        2007   \n",
       "2                  170        78.0     3079.038997        2018   \n",
       "3                  220         NaN     2542.392402        2009   \n",
       "4                  210       140.0     3460.870990        2009   \n",
       "\n",
       "   fuel_efficiency_mpg  \n",
       "0            13.231729  \n",
       "1            13.688217  \n",
       "2            14.246341  \n",
       "3            16.912736  \n",
       "4            12.488369  "
      ]
     },
     "execution_count": 194,
     "metadata": {},
     "output_type": "execute_result"
    }
   ],
   "source": [
    "df = df[['engine_displacement', 'horsepower', 'vehicle_weight', 'model_year', 'fuel_efficiency_mpg']]\n",
    "df.head()"
   ]
  },
  {
   "cell_type": "markdown",
   "id": "266ccc71-ac97-43ef-bf07-5735ace423ad",
   "metadata": {},
   "source": [
    "## 0.4 EDA\n",
    "Look at the fuel_efficiency_mpg variable. Does it have a long tail?"
   ]
  },
  {
   "cell_type": "code",
   "execution_count": 195,
   "id": "cffeef63-8c27-4d50-b8f2-137b21c57abd",
   "metadata": {},
   "outputs": [
    {
     "data": {
      "image/png": "[encoded data removed]",
      "text/plain": [
       "<Figure size 600x400 with 1 Axes>"
      ]
     },
     "metadata": {},
     "output_type": "display_data"
    }
   ],
   "source": [
    "plt.figure(figsize=(6, 4))\n",
    "\n",
    "sns.histplot(df.fuel_efficiency_mpg, bins=40, color='black', alpha=1)\n",
    "plt.ylabel('Frequency')\n",
    "plt.xlabel('Car Fuel Efficiency')\n",
    "plt.title('Distribution of Fuel Efficiency')\n",
    "\n",
    "plt.show()"
   ]
  },
  {
   "cell_type": "markdown",
   "id": "cc2d9406-f065-46de-9199-e1ae5fd62a64",
   "metadata": {},
   "source": [
    "## Question 1\n",
    "There's one column with missing values. What is it?"
   ]
  },
  {
   "cell_type": "code",
   "execution_count": 196,
   "id": "4690abeb-9a00-4bdf-bece-5b445033aae7",
   "metadata": {},
   "outputs": [
    {
     "data": {
      "text/plain": [
       "engine_displacement      0\n",
       "horsepower             708\n",
       "vehicle_weight           0\n",
       "model_year               0\n",
       "fuel_efficiency_mpg      0\n",
       "dtype: int64"
      ]
     },
     "execution_count": 196,
     "metadata": {},
     "output_type": "execute_result"
    }
   ],
   "source": [
    "df.isnull().sum()"
   ]
  },
  {
   "cell_type": "code",
   "execution_count": 197,
   "id": "91abbd9a-6b67-4de2-ae99-53e4c2ccb402",
   "metadata": {},
   "outputs": [
    {
     "data": {
      "text/plain": [
       "count    8996.000000\n",
       "mean      149.657292\n",
       "std        29.879555\n",
       "min        37.000000\n",
       "25%       130.000000\n",
       "50%       149.000000\n",
       "75%       170.000000\n",
       "max       271.000000\n",
       "Name: horsepower, dtype: float64"
      ]
     },
     "execution_count": 197,
     "metadata": {},
     "output_type": "execute_result"
    }
   ],
   "source": [
    "df.horsepower.describe()"
   ]
  },
  {
   "cell_type": "code",
   "execution_count": 198,
   "id": "20f040b6-7119-4b08-959f-06f720cebe49",
   "metadata": {},
   "outputs": [
    {
     "data": {
      "text/plain": [
       "np.float64(149.0)"
      ]
     },
     "execution_count": 198,
     "metadata": {},
     "output_type": "execute_result"
    }
   ],
   "source": [
    "median_points = df['horsepower'].median()\n",
    "median_points"
   ]
  },
  {
   "cell_type": "markdown",
   "id": "d83fa1b7-4a4e-42e1-bbb6-6e3268d50eca",
   "metadata": {},
   "source": [
    "## Prepare and split the dataset\n",
    "* Shuffle the dataset (the filtered one you created above), use seed 42.\n",
    "* Split your data in train/val/test sets, with 60%/20%/20% distribution."
   ]
  },
  {
   "cell_type": "code",
   "execution_count": 199,
   "id": "573c069d-3983-4739-ab29-a5df6ec70a88",
   "metadata": {},
   "outputs": [],
   "source": [
    "np.random.seed(42)\n",
    "\n",
    "n = len(df)\n",
    "\n",
    "n_val = int(0.2 * n)\n",
    "n_test = int(0.2 * n)\n",
    "n_train = n - (n_val + n_test)\n",
    "\n",
    "idx = np.arange(n)\n",
    "np.random.shuffle(idx)\n",
    "\n",
    "df_shuffled = df.iloc[idx]\n",
    "\n",
    "df_train = df_shuffled.iloc[:n_train].copy()\n",
    "df_val = df_shuffled.iloc[n_train:n_train+n_val].copy()\n",
    "df_test = df_shuffled.iloc[n_train+n_val:].copy()"
   ]
  },
  {
   "cell_type": "code",
   "execution_count": 200,
   "id": "1fceadb4-f808-44c1-96ad-2777698cd37e",
   "metadata": {},
   "outputs": [],
   "source": [
    "y_train = df_train.fuel_efficiency_mpg.values\n",
    "y_val = df_val.fuel_efficiency_mpg.values\n",
    "y_test = df_test.fuel_efficiency_mpg.values\n",
    "\n",
    "del df_train['fuel_efficiency_mpg']\n",
    "del df_val['fuel_efficiency_mpg']\n",
    "del df_test['fuel_efficiency_mpg']"
   ]
  },
  {
   "cell_type": "markdown",
   "id": "f846e38a-79bf-4792-810b-f834fac8f2af",
   "metadata": {},
   "source": [
    "## Question 3\n",
    "* We need to deal with missing values for the column from Q1.\n",
    "* We have two options: fill it with 0 or with the mean of this variable.\n",
    "* Try both options. For each, train a linear regression model without regularization using the code from the lessons.\n",
    "* For computing the mean, use the training only!\n",
    "* Use the validation dataset to evaluate the models and compare the RMSE of each option.\n",
    "* Round the RMSE scores to 2 decimal digits using round(score, 2)\n",
    "* Which option gives better RMSE?"
   ]
  },
  {
   "cell_type": "markdown",
   "id": "58a71afe-a0fd-4a99-82f6-7bc2f7085697",
   "metadata": {},
   "source": [
    "## Question 3 - filling with 0"
   ]
  },
  {
   "cell_type": "code",
   "execution_count": 201,
   "id": "aacd372d-4eaf-435e-8b27-7f858a565511",
   "metadata": {},
   "outputs": [],
   "source": [
    "base = ['engine_displacement', 'horsepower', 'vehicle_weight', 'model_year']"
   ]
  },
  {
   "cell_type": "code",
   "execution_count": 202,
   "id": "7d5c2196-8046-452f-8cf7-33b9030fe52f",
   "metadata": {},
   "outputs": [],
   "source": [
    "def prepare_X(df):\n",
    "    df_num = df[base]\n",
    "    df_num = df_num.fillna(0)\n",
    "    X = df_num.values\n",
    "    return X"
   ]
  },
  {
   "cell_type": "code",
   "execution_count": 203,
   "id": "c7857210-e4a3-46ee-96c5-152d55fe6b47",
   "metadata": {},
   "outputs": [],
   "source": [
    "def train_linear_regression(X, y):\n",
    "    ones = np.ones(X.shape[0])\n",
    "    X = np.column_stack([ones, X])\n",
    "\n",
    "    XTX = X.T.dot(X)\n",
    "    XTX_inv = np.linalg.inv(XTX)\n",
    "    w = XTX_inv.dot(X.T).dot(y)\n",
    "    \n",
    "    return w[0], w[1:]"
   ]
  },
  {
   "cell_type": "code",
   "execution_count": 204,
   "id": "f330a25a-fc94-4bf2-bff4-4690aee3bc63",
   "metadata": {},
   "outputs": [],
   "source": [
    "def rmse(y, y_pred):\n",
    "    error = y_pred - y\n",
    "    mse = (error ** 2).mean()\n",
    "    return np.sqrt(mse)"
   ]
  },
  {
   "cell_type": "code",
   "execution_count": 205,
   "id": "f360a655-1b39-40b0-8db2-05a477f73040",
   "metadata": {},
   "outputs": [],
   "source": [
    "# Training\n",
    "X_train_fill0 = prepare_X(df_train)\n",
    "w_0_fill0, w_fill0 = train_linear_regression(X_train_fill0, y_train)"
   ]
  },
  {
   "cell_type": "code",
   "execution_count": 206,
   "id": "88a547d8-cb36-485c-9a8c-06f415e4cdf4",
   "metadata": {},
   "outputs": [],
   "source": [
    "y_train_pred_fill0 = w_0 + X_train_fill0.dot(w)"
   ]
  },
  {
   "cell_type": "code",
   "execution_count": 207,
   "id": "a04345b0-8390-4a65-938b-b7441fa87b3f",
   "metadata": {},
   "outputs": [
    {
     "data": {
      "text/plain": [
       "np.float64(0.5203268212192156)"
      ]
     },
     "execution_count": 207,
     "metadata": {},
     "output_type": "execute_result"
    }
   ],
   "source": [
    "rmse_train_fill0 = rmse(y_train, y_train_pred_fill0)\n",
    "rmse_train_fill0"
   ]
  },
  {
   "cell_type": "code",
   "execution_count": 208,
   "id": "e58310fa-4104-414a-87bb-5f1ecbb8afbe",
   "metadata": {},
   "outputs": [],
   "source": [
    "# Validating\n",
    "X_val_fill0 = prepare_X(df_val)\n",
    "y_val_pred_fill0 = w_0_fill0 + X_val_fill0.dot(w)"
   ]
  },
  {
   "cell_type": "code",
   "execution_count": 209,
   "id": "cd7efd35-d868-4173-8ad4-b0e57ba101b0",
   "metadata": {},
   "outputs": [
    {
     "data": {
      "text/plain": [
       "np.float64(0.51)"
      ]
     },
     "execution_count": 209,
     "metadata": {},
     "output_type": "execute_result"
    }
   ],
   "source": [
    "rmse_val_fill0 = rmse(y_val, y_val_pred_fill0)\n",
    "score_fill_0 = round(rmse_val, 2)\n",
    "score_fill_0"
   ]
  },
  {
   "cell_type": "markdown",
   "id": "b82bab7a-0916-4fa6-8be9-f9b87a7c6d45",
   "metadata": {},
   "source": [
    "## Question 3 - filling with the mean"
   ]
  },
  {
   "cell_type": "code",
   "execution_count": 210,
   "id": "cf54ab40-68a8-447c-aa75-40bd3df0752f",
   "metadata": {},
   "outputs": [
    {
     "data": {
      "text/plain": [
       "np.float64(149.54476367006487)"
      ]
     },
     "execution_count": 210,
     "metadata": {},
     "output_type": "execute_result"
    }
   ],
   "source": [
    "mean_train = df_train.horsepower.mean()\n",
    "mean_train"
   ]
  },
  {
   "cell_type": "code",
   "execution_count": 211,
   "id": "c63ff548-558a-41d6-abc3-52317581a627",
   "metadata": {},
   "outputs": [],
   "source": [
    "def prepare_X_filling_mean(df):\n",
    "    df_num = df[base]\n",
    "    df_num = df_num.fillna(mean_train)\n",
    "    X = df_num.values\n",
    "    return X"
   ]
  },
  {
   "cell_type": "code",
   "execution_count": 212,
   "id": "c62ffae3-0043-41ac-a188-00729f3b2408",
   "metadata": {},
   "outputs": [],
   "source": [
    "# Training\n",
    "X_train_fill_mean = prepare_X_filling_mean(df_train)\n",
    "w_0_fill_mean, w_fill_mean = train_linear_regression(X_train_fill_mean, y_train)"
   ]
  },
  {
   "cell_type": "code",
   "execution_count": 213,
   "id": "9215d4e0-cf50-4e26-8fea-2df0f4702450",
   "metadata": {},
   "outputs": [],
   "source": [
    "y_train_pred_fill_mean = w_0 + X_train_fill_mean.dot(w)"
   ]
  },
  {
   "cell_type": "code",
   "execution_count": 214,
   "id": "9ddd3ebb-d792-49f6-9c76-3fda8114ebe2",
   "metadata": {},
   "outputs": [
    {
     "data": {
      "text/plain": [
       "np.float64(0.5024552624906132)"
      ]
     },
     "execution_count": 214,
     "metadata": {},
     "output_type": "execute_result"
    }
   ],
   "source": [
    "rmse_train_fill_mean = rmse(y_train, y_train_pred_fill_mean)\n",
    "rmse_train_fill_mean"
   ]
  },
  {
   "cell_type": "code",
   "execution_count": 215,
   "id": "bdb8faf9-01d7-4ff3-8ccb-8579c104a02a",
   "metadata": {},
   "outputs": [],
   "source": [
    "# Validating\n",
    "X_val_fill_mean = prepare_X(df_val)\n",
    "y_val_pred_fill_mean = w_0_fill_mean + X_val_fill_mean.dot(w)"
   ]
  },
  {
   "cell_type": "code",
   "execution_count": 216,
   "id": "4310777d-eb2c-4562-849d-e4bd6c2c2107",
   "metadata": {},
   "outputs": [
    {
     "data": {
      "text/plain": [
       "np.float64(0.51)"
      ]
     },
     "execution_count": 216,
     "metadata": {},
     "output_type": "execute_result"
    }
   ],
   "source": [
    "rmse_val_fill_mean = rmse(y_val, y_val_pred_fill_mean)\n",
    "score_fill_mean = round(rmse_val, 2)\n",
    "score_fill_mean"
   ]
  },
  {
   "cell_type": "markdown",
   "id": "7b36f9e7-5e7a-49db-902a-07fdecf4a56b",
   "metadata": {},
   "source": [
    "## Question 4\n",
    "Train a regularized linear regression.\n",
    "For this question, fill the NAs with 0.\n",
    "Try different values of r from this list: [0, 0.01, 0.1, 1, 5, 10, 100].\n",
    "Use RMSE to evaluate the model on the validation dataset.\n",
    "Round the RMSE scores to 2 decimal digits.\n",
    "Which r gives the best RMSE?\n",
    "If multiple options give the same best RMSE, select the smallest r."
   ]
  },
  {
   "cell_type": "code",
   "execution_count": 217,
   "id": "385398b3-48bd-479a-942c-d7b43517f492",
   "metadata": {},
   "outputs": [],
   "source": [
    "def train_linear_regression_reg(X, y, r=0.0):\n",
    "    ones = np.ones(X.shape[0])\n",
    "    X = np.column_stack([ones, X])\n",
    "\n",
    "    XTX = X.T.dot(X)\n",
    "    reg = r * np.eye(XTX.shape[0])\n",
    "    XTX = XTX + reg\n",
    "\n",
    "    XTX_inv = np.linalg.inv(XTX)\n",
    "    w = XTX_inv.dot(X.T).dot(y)\n",
    "    \n",
    "    return w[0], w[1:]"
   ]
  },
  {
   "cell_type": "code",
   "execution_count": 218,
   "id": "b6608b5c-3c4a-4da9-8a31-f459e58e8439",
   "metadata": {},
   "outputs": [
    {
     "name": "stdout",
     "output_type": "stream",
     "text": [
      "     0 0.52\n",
      "  0.01 0.52\n",
      "   0.1 0.52\n",
      "     1 0.52\n",
      "     5 0.52\n",
      "    10 0.52\n",
      "   100 0.52\n"
     ]
    }
   ],
   "source": [
    "X_train = prepare_X(df_train)\n",
    "X_val = prepare_X(df_val)\n",
    "\n",
    "for r in [0, 0.01, 0.1, 1, 5, 10, 100]:\n",
    "    w_0, w = train_linear_regression_reg(X_train, y_train, r=r)\n",
    "    y_pred = w_0 + X_val.dot(w)\n",
    "    print('%6s' %r, round(rmse(y_val, y_pred), 2))"
   ]
  },
  {
   "cell_type": "markdown",
   "id": "c3ac699b-2ea9-418b-900a-1ae622451636",
   "metadata": {},
   "source": [
    "## Question 5\n",
    "We used seed 42 for splitting the data. Let's find out how selecting the seed influences our score.\n",
    "* Try different seed values: [0, 1, 2, 3, 4, 5, 6, 7, 8, 9].\n",
    "* For each seed, do the train/validation/test split with 60%/20%/20% distribution.\n",
    "* Fill the missing values with 0 and train a model without regularization.\n",
    "* For each seed, evaluate the model on the validation dataset and collect the RMSE scores.\n",
    "* What's the standard deviation of all the scores? To compute the standard deviation, use np.std.\n",
    "* Round the result to 3 decimal digits (round(std, 3))"
   ]
  },
  {
   "cell_type": "code",
   "execution_count": 219,
   "id": "20576f9b-2842-4170-ab5a-d656827fd76b",
   "metadata": {},
   "outputs": [],
   "source": [
    "def splitting(df, seed):\n",
    "    np.random.seed(seed)\n",
    "    n = len(df)\n",
    "    n_val = int(0.2 * n)\n",
    "    n_test = int(0.2 * n)\n",
    "    n_train = n - (n_val + n_test)\n",
    "\n",
    "    idx = np.arange(n)\n",
    "    np.random.shuffle(idx)\n",
    "\n",
    "    df_shuffled = df.iloc[idx]\n",
    "\n",
    "    df_train = df_shuffled.iloc[:n_train].copy()\n",
    "    df_val = df_shuffled.iloc[n_train:n_train+n_val].copy()\n",
    "    df_test = df_shuffled.iloc[n_train+n_val:].copy()\n",
    "\n",
    "    return [df_train, df_val, df_test]"
   ]
  },
  {
   "cell_type": "code",
   "execution_count": 220,
   "id": "f1d4bdd8-a6bf-49eb-9bd3-af06f11bd7a8",
   "metadata": {},
   "outputs": [],
   "source": [
    "def prepare_X(df):\n",
    "    df_num = df[base]\n",
    "    df_num = df_num.fillna(0)\n",
    "    X = df_num.values\n",
    "    return X"
   ]
  },
  {
   "cell_type": "code",
   "execution_count": 221,
   "id": "39490dd5-8599-40e8-9353-6714310b933b",
   "metadata": {},
   "outputs": [],
   "source": [
    "def get_y(df):\n",
    "    y = df.fuel_efficiency_mpg.values\n",
    "    del df['fuel_efficiency_mpg']\n",
    "    return y"
   ]
  },
  {
   "cell_type": "code",
   "execution_count": 222,
   "id": "7114291a-bd4b-43c7-b4c0-9d2f1d0f3a40",
   "metadata": {},
   "outputs": [],
   "source": [
    "def delete_y(df):\n",
    "    del df['fuel_efficiency_mpg']\n",
    "    return df"
   ]
  },
  {
   "cell_type": "code",
   "execution_count": 223,
   "id": "22470487-88cb-4f3f-8160-8a0965b045a2",
   "metadata": {},
   "outputs": [],
   "source": [
    "def train(df_train, y_train):\n",
    "    X_train = prepare_X(df_train)\n",
    "    w_0, w = train_linear_regression(X_train, y_train)\n",
    "    return w_0, w \n"
   ]
  },
  {
   "cell_type": "code",
   "execution_count": 224,
   "id": "06bdcb39-c3a3-4ea3-b90e-667711685112",
   "metadata": {},
   "outputs": [
    {
     "data": {
      "text/plain": [
       "'\\nseeds = [0, 1, 2, 3, 4, 5, 6, 7, 8, 9]\\nDF_train = []\\nDF_val = []\\nDF_test = []\\nY_train = []\\nY_val = []\\nY_test = []\\nTrain = []\\ny_val_pred\\n\\nfor seed in seeds:\\n    split = splitting(df, seed)\\n    DF_train.append(split[0])\\n    DF_val.append(split[1])\\n    DF_test.append(split[2])\\n    Y_train.append(split[0].fuel_efficiency_mpg.values)\\n    Y_val.append(split[1].fuel_efficiency_mpg.values)\\n    Y_test.append(split[2].fuel_efficiency_mpg.values)\\n    Train.append(train(split[0], split[0].fuel_efficiency_mpg.values))\\n    y_val_pred = w_0 + X_val.dot(w)\\n    rmse_val = rmse(y_val, y_val_pred)\\n'"
      ]
     },
     "execution_count": 224,
     "metadata": {},
     "output_type": "execute_result"
    }
   ],
   "source": [
    "'''\n",
    "seeds = [0, 1, 2, 3, 4, 5, 6, 7, 8, 9]\n",
    "DF_train = []\n",
    "DF_val = []\n",
    "DF_test = []\n",
    "Y_train = []\n",
    "Y_val = []\n",
    "Y_test = []\n",
    "Train = []\n",
    "y_val_pred\n",
    "\n",
    "for seed in seeds:\n",
    "    split = splitting(df, seed)\n",
    "    DF_train.append(split[0])\n",
    "    DF_val.append(split[1])\n",
    "    DF_test.append(split[2])\n",
    "    Y_train.append(split[0].fuel_efficiency_mpg.values)\n",
    "    Y_val.append(split[1].fuel_efficiency_mpg.values)\n",
    "    Y_test.append(split[2].fuel_efficiency_mpg.values)\n",
    "    Train.append(train(split[0], split[0].fuel_efficiency_mpg.values))\n",
    "    y_val_pred = w_0 + X_val.dot(w)\n",
    "    rmse_val = rmse(y_val, y_val_pred)\n",
    "'''"
   ]
  },
  {
   "cell_type": "code",
   "execution_count": 225,
   "id": "00163fab-d205-48b3-b2b1-7b3b304050e9",
   "metadata": {},
   "outputs": [
    {
     "name": "stdout",
     "output_type": "stream",
     "text": [
      "seed 0 : 0.5206531296292951\n",
      "seed 1 : 0.5213388912860217\n",
      "seed 2 : 0.5228069974785726\n",
      "seed 3 : 0.5159516741108942\n",
      "seed 4 : 0.5109129460108117\n",
      "seed 5 : 0.5283406460133415\n",
      "seed 6 : 0.5313910658151165\n",
      "seed 7 : 0.5090670387365963\n",
      "seed 8 : 0.5147399129426932\n",
      "seed 9 : 0.5131865908408015\n"
     ]
    }
   ],
   "source": [
    "base = ['engine_displacement', 'horsepower', 'vehicle_weight', 'model_year']\n",
    "seeds = [0, 1, 2, 3, 4, 5, 6, 7, 8, 9]\n",
    "Rmse_val = []\n",
    "\n",
    "for seed in seeds:\n",
    "    split = splitting(df, seed)\n",
    "    y_train = get_y(split[0])\n",
    "    w_0, w = train(split[0], y_train)\n",
    "    y_val = get_y(split[1])\n",
    "    X_val= prepare_X(split[1])\n",
    "    y_val_pred = w_0 + X_val.dot(w)\n",
    "    rmse_val = rmse(y_val, y_val_pred)\n",
    "    print('seed', seed,':', rmse_val)\n",
    "    Rmse_val.append(rmse_val)"
   ]
  },
  {
   "cell_type": "code",
   "execution_count": 226,
   "id": "47701e9b-f814-40e6-a6fb-6cae3a781176",
   "metadata": {},
   "outputs": [
    {
     "data": {
      "text/plain": [
       "np.float64(0.007)"
      ]
     },
     "execution_count": 226,
     "metadata": {},
     "output_type": "execute_result"
    }
   ],
   "source": [
    "std = np.std(Rmse_val)\n",
    "std_rounded = round(std, 3)\n",
    "std_rounded"
   ]
  },
  {
   "cell_type": "markdown",
   "id": "496f548f-8b00-4792-856c-608c612739c4",
   "metadata": {},
   "source": [
    "## Question 6\n",
    "Split the dataset like previously, use seed 9.\n",
    "* Combine train and validation datasets.\n",
    "* Fill the missing values with 0 and train a model with r=0.001.\n",
    "* What's the RMSE on the test dataset?"
   ]
  },
  {
   "cell_type": "code",
   "execution_count": 227,
   "id": "25822ff4-917c-48b2-8bb1-8083a7e1c800",
   "metadata": {},
   "outputs": [],
   "source": [
    "split = splitting(df, 9)\n",
    "df_train = split[0]\n",
    "df_val = split[1]\n",
    "df_test = split[2]"
   ]
  },
  {
   "cell_type": "code",
   "execution_count": 228,
   "id": "5cf974f4-115f-4431-9d6a-b768d946e871",
   "metadata": {},
   "outputs": [],
   "source": [
    "df_train_full = pd.concat([df_train, df_val])"
   ]
  },
  {
   "cell_type": "code",
   "execution_count": 229,
   "id": "ffeef657-5a66-496b-bc11-4397dab54e8d",
   "metadata": {},
   "outputs": [],
   "source": [
    "y_train_full = get_y(df_train_full)"
   ]
  },
  {
   "cell_type": "code",
   "execution_count": 230,
   "id": "aecbc2ee-7b68-4968-bafa-f6e2e252a7ae",
   "metadata": {},
   "outputs": [],
   "source": [
    "X_train_full = prepare_X(df_train_full)"
   ]
  },
  {
   "cell_type": "code",
   "execution_count": 231,
   "id": "2bd3ef28-7e91-4790-9b3a-a62d683c8677",
   "metadata": {},
   "outputs": [],
   "source": [
    "w_0, w = train_linear_regression_reg(X_train_full, y_train_full, r=0.001)\n",
    "y_pred = w_0 + X_val.dot(w)"
   ]
  },
  {
   "cell_type": "code",
   "execution_count": 232,
   "id": "175138a9-cabf-4c91-a0a4-665356547145",
   "metadata": {},
   "outputs": [
    {
     "name": "stdout",
     "output_type": "stream",
     "text": [
      "0.513\n"
     ]
    }
   ],
   "source": [
    "print(round(rmse(y_val, y_pred), 3))"
   ]
  },
  {
   "cell_type": "code",
   "execution_count": null,
   "id": "3cbfdf6b-c1a4-43b0-8716-3d8481fc9b98",
   "metadata": {},
   "outputs": [],
   "source": []
  }
 ],
 "metadata": {
  "kernelspec": {
   "display_name": "Python 3 (ipykernel)",
   "language": "python",
   "name": "python3"
  },
  "language_info": {
   "codemirror_mode": {
    "name": "ipython",
    "version": 3
   },
   "file_extension": ".py",
   "mimetype": "text/x-python",
   "name": "python",
   "nbconvert_exporter": "python",
   "pygments_lexer": "ipython3",
   "version": "3.12.1"
  }
 },
 "nbformat": 4,
 "nbformat_minor": 5
}
